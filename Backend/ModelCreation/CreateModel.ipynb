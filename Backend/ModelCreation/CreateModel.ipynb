{
 "cells": [
  {
   "cell_type": "code",
   "execution_count": 2,
   "metadata": {},
   "outputs": [],
   "source": [
    "import numpy as np\n",
    "\n",
    "import ModelDefinition\n",
    "\n",
    "import SupplyChainLocations\n",
    "import SupplyChainRules\n",
    "import json"
   ]
  },
  {
   "cell_type": "code",
   "execution_count": 3,
   "metadata": {},
   "outputs": [],
   "source": [
    "# seeding_rate in tonnes/ha (hectacre is 2.47105 acres)\n",
    "# 39.3679 bushels of wheat is a tonne \n",
    "model_constants = {\n",
    "    \"Wheat_seeding_rate\":0.11,\n",
    "    \"Cereals_seeding_rate\":0.2,\n",
    "    \"Barley_seeding_rate\":0.3,\n",
    "    \"Wheat_germination_rate\":1\n",
    "}"
   ]
  },
  {
   "cell_type": "code",
   "execution_count": 4,
   "metadata": {},
   "outputs": [],
   "source": [
    "supplyChainClasses = [[\"NH4\", \"tonnes\"], [\"N2\", \"m^3\"], [\"H2\", \"m^3\"], [\"CH4\", \"m^3\"]]\n",
    "\n",
    "\n",
    "# Crop classes:\n",
    "crops = [\"Wheat\", \"Cereals\", \"Barley\"]\n",
    "\n",
    "for crop in crops:\n",
    "    supplyChainClasses +=  [[f\"Seeds_{crop}\", \"Tonnes\"], [f\"Planted_{crop}\", \"Hectacres\"], [f\"Growing_{crop}\", \"Hectacres\"], [f\"Viable_{crop}\", \"Tonnes\"], [f\"Harvested_{crop}\", \"Tonnes\"]]"
   ]
  },
  {
   "cell_type": "code",
   "execution_count": 5,
   "metadata": {},
   "outputs": [],
   "source": [
    "def returnCropRules():    \n",
    "    rules = []\n",
    "\n",
    "    # Crop rules\n",
    "    # TODO add seasonallity.\n",
    "    # TODO limit based on supply.\n",
    "    for crop in crops:\n",
    "        # SIMPLIFIED RULE FOR BASE MODEL\n",
    "        # Fix requirement of non None propensity class.\n",
    "        purchase_seeds = SupplyChainRules.ExitEntranceRule(target=\"FarmRegion\", transport_class=f\"Seeds_{crop}\", transport_amount=1, propensity=\"0.1\", propensity_classes=[f\"Seeds_{crop}\"],\n",
    "                                                           rule_name=\"Purchase Seeds\")\n",
    "\n",
    "        sow_crop = SupplyChainRules.SingleLocationProductionRule(target=\"FarmRegion\",\n",
    "                                                                        reactant_classes=[f\"Seeds_{crop}\"], reactant_amount=[1], \n",
    "                                                                        product_classes=[f\"Planted_{crop}\"], product_amount=[model_constants[f\"{crop}_seeding_rate\"]], propensity=f\"Seeds_{crop}\",\n",
    "                                                                        propensity_classes=[f\"Seeds_{crop}\"], rule_name=f\"Sow {crop}\")\n",
    "        \n",
    "        germinating_crop = SupplyChainRules.SingleLocationProductionRule(target=\"FarmRegion\",\n",
    "                                                                        reactant_classes=[f\"Planted_{crop}\"], reactant_amount=[1], \n",
    "                                                                        product_classes=[f\"Growing_{crop}\"], product_amount=[1], propensity=f\"0.1*Planted_{crop}\",\n",
    "                                                                        propensity_classes=[f\"Planted_{crop}\"], rule_name=f\"Germinate {crop}\")\n",
    "        # TODO make dependant on Nitrogen levels ect ect.\n",
    "        crop_growth = SupplyChainRules.SingleLocationProductionRule(target=\"FarmRegion\",\n",
    "                                                                        reactant_classes=[f\"Growing_{crop}\"], reactant_amount=[1], \n",
    "                                                                        product_classes=[f\"Viable_{crop}\"], product_amount=[1], propensity=f\"Growing_{crop}\",\n",
    "                                                                        propensity_classes=[f\"Growing_{crop}\"], rule_name=f\"Germinate {crop}\")\n",
    "        \n",
    "        # May need to make propensity based on planted field size, will need to check.\n",
    "        harvest_crop = SupplyChainRules.SingleLocationProductionRule(target=\"FarmRegion\",\n",
    "                                                                        reactant_classes=[f\"Viable_{crop}\"], reactant_amount=[1], \n",
    "                                                                        product_classes=[f\"Harvested_{crop}\"], product_amount=[1], propensity=f\"Viable_{crop}\",\n",
    "                                                                        propensity_classes=[f\"Viable_{crop}\"], rule_name=f\"Harvest {crop}\")\n",
    "        rules += [purchase_seeds, sow_crop, germinating_crop, crop_growth, harvest_crop]\n",
    "\n",
    "    return rules"
   ]
  },
  {
   "cell_type": "code",
   "execution_count": 6,
   "metadata": {},
   "outputs": [],
   "source": [
    "def returnFertiliserRules():\n",
    "    return []"
   ]
  },
  {
   "cell_type": "code",
   "execution_count": 7,
   "metadata": {},
   "outputs": [],
   "source": [
    "def supplyChainRules():\n",
    "    rules = []\n",
    "    rules += returnCropRules()\n",
    "    rules += returnFertiliserRules()\n",
    "    return rules"
   ]
  },
  {
   "cell_type": "code",
   "execution_count": 8,
   "metadata": {},
   "outputs": [],
   "source": [
    "def supplyChainLocations():\n",
    "    # Billingham terminal - Produces Ammonium nitrate from Ammonia\n",
    "    # https://www.cfindustries.com/newsroom/2023/billingham-ammonia-plant\n",
    "    # https://www.cfindustries.com/what-we-do/fertilizer\n",
    "    all_locations = []\n",
    "    # Midpoints from wikipedia, South East and London uses South East midpoint (combined to match DEFRA reporting)\n",
    "    region_infos = [[54.075, -2.75, \"North East\"], [55, -1.87, \"North West\"], [53.566667, -1.2, \"Yorkshire & The Humber\"], [52.98, -0.75, \"East Midlands\"], [52.478861, -2.256306, \"West Midlands\"], \n",
    "                    [52.24, 0.41, \"East of England\"], [51.3, -0.8, \"South East & London\"], [50.96, -3.22, \"South West\"], [56.816738, -4.183963, \"Scotland\"], [52.33022, -3.766409,\"Wales\"]]\n",
    "    for region_info in region_infos:\n",
    "        all_locations.append(SupplyChainLocations.FarmRegion(crops, *region_info))\n",
    "\n",
    "    \n",
    "    return all_locations"
   ]
  },
  {
   "cell_type": "code",
   "execution_count": 9,
   "metadata": {},
   "outputs": [
    {
     "name": "stdout",
     "output_type": "stream",
     "text": [
      "0.1\n",
      "0.100000000000000\n",
      "Seeds_Wheat\n",
      "1.00000000000000\n",
      "0.1*Planted_Wheat\n",
      "0.100000000000000\n",
      "Growing_Wheat\n",
      "1.00000000000000\n",
      "Viable_Wheat\n",
      "1.00000000000000\n",
      "0.1\n",
      "0.100000000000000\n",
      "Seeds_Cereals\n",
      "1.00000000000000\n",
      "0.1*Planted_Cereals\n",
      "0.100000000000000\n",
      "Growing_Cereals\n",
      "1.00000000000000\n",
      "Viable_Cereals\n",
      "1.00000000000000\n",
      "0.1\n",
      "0.100000000000000\n",
      "Seeds_Barley\n",
      "1.00000000000000\n",
      "0.1*Planted_Barley\n",
      "0.100000000000000\n",
      "Growing_Barley\n",
      "1.00000000000000\n",
      "Viable_Barley\n",
      "1.00000000000000\n",
      "['Seeds_Wheat']\n",
      "['Seeds_Wheat', 'Planted_Wheat']\n",
      "['Planted_Wheat', 'Growing_Wheat']\n",
      "['Growing_Wheat', 'Viable_Wheat']\n",
      "['Viable_Wheat', 'Harvested_Wheat']\n",
      "['Seeds_Cereals']\n",
      "['Seeds_Cereals', 'Planted_Cereals']\n",
      "['Planted_Cereals', 'Growing_Cereals']\n",
      "['Growing_Cereals', 'Viable_Cereals']\n",
      "['Viable_Cereals', 'Harvested_Cereals']\n",
      "['Seeds_Barley']\n",
      "['Seeds_Barley', 'Planted_Barley']\n",
      "['Planted_Barley', 'Growing_Barley']\n",
      "['Growing_Barley', 'Viable_Barley']\n",
      "['Viable_Barley', 'Harvested_Barley']\n",
      "MATCHED {0: [0, 1, 2, 3, 4, 5, 6, 7, 8, 9]}\n",
      "MATCHED {0: [0, 1, 2, 3, 4, 5, 6, 7, 8, 9]}\n",
      "MATCHED {0: [0, 1, 2, 3, 4, 5, 6, 7, 8, 9]}\n",
      "MATCHED {0: [0, 1, 2, 3, 4, 5, 6, 7, 8, 9]}\n",
      "MATCHED {0: [0, 1, 2, 3, 4, 5, 6, 7, 8, 9]}\n",
      "MATCHED {0: [0, 1, 2, 3, 4, 5, 6, 7, 8, 9]}\n",
      "MATCHED {0: [0, 1, 2, 3, 4, 5, 6, 7, 8, 9]}\n",
      "MATCHED {0: [0, 1, 2, 3, 4, 5, 6, 7, 8, 9]}\n",
      "MATCHED {0: [0, 1, 2, 3, 4, 5, 6, 7, 8, 9]}\n",
      "MATCHED {0: [0, 1, 2, 3, 4, 5, 6, 7, 8, 9]}\n",
      "MATCHED {0: [0, 1, 2, 3, 4, 5, 6, 7, 8, 9]}\n",
      "MATCHED {0: [0, 1, 2, 3, 4, 5, 6, 7, 8, 9]}\n",
      "MATCHED {0: [0, 1, 2, 3, 4, 5, 6, 7, 8, 9]}\n",
      "MATCHED {0: [0, 1, 2, 3, 4, 5, 6, 7, 8, 9]}\n",
      "MATCHED {0: [0, 1, 2, 3, 4, 5, 6, 7, 8, 9]}\n",
      "['0.1']\n",
      "['x11']\n",
      "['0.1*x8']\n",
      "['x2']\n",
      "['x14']\n",
      "['0.1']\n",
      "['x10']\n",
      "['0.1*x7']\n",
      "['x1']\n",
      "['x13']\n",
      "['0.1']\n",
      "['x9']\n",
      "['0.1*x6']\n",
      "['x0']\n",
      "['x12']\n"
     ]
    }
   ],
   "source": [
    "model = ModelDefinition.ModelDefinition(supplyChainClasses, supplyChainLocations, supplyChainRules, model_folder=\"../ModelFiles/SupplyChain/\")\n",
    "model.build()"
   ]
  },
  {
   "cell_type": "code",
   "execution_count": null,
   "metadata": {},
   "outputs": [],
   "source": []
  }
 ],
 "metadata": {
  "kernelspec": {
   "display_name": ".venv",
   "language": "python",
   "name": "python3"
  },
  "language_info": {
   "codemirror_mode": {
    "name": "ipython",
    "version": 3
   },
   "file_extension": ".py",
   "mimetype": "text/x-python",
   "name": "python",
   "nbconvert_exporter": "python",
   "pygments_lexer": "ipython3",
   "version": "3.10.6"
  }
 },
 "nbformat": 4,
 "nbformat_minor": 2
}
