{
 "cells": [
  {
   "cell_type": "code",
   "execution_count": 1,
   "metadata": {},
   "outputs": [],
   "source": [
    "import numpy as np\n",
    "\n",
    "import ModelDefinition\n",
    "\n",
    "import SupplyChainLocations\n",
    "import SupplyChainRules\n",
    "import json"
   ]
  },
  {
   "cell_type": "code",
   "execution_count": 2,
   "metadata": {},
   "outputs": [],
   "source": [
    "supplyChainClasses = [[\"NH4\", \"tonnes\"], [\"N2\", \"m^3\"], [\"H2\", \"m^3\"], [\"CH4\", \"m^3\"]]"
   ]
  },
  {
   "cell_type": "code",
   "execution_count": 3,
   "metadata": {},
   "outputs": [],
   "source": [
    "def supplyChainRules():\n",
    "\n",
    "    manufacture_ammonia = SupplyChainRules.SingleLocationProductionRule(target=\"ChemicalPlant AmmoniaPlant\",\n",
    "                                                                        reactant_classes=[\"N2\",\"H2\"], reactant_amount=[1,3], \n",
    "                                                                        product_classes=[\"NH4\"],product_amount=[1],propensity=\"N2*H2\",\n",
    "                                                                        propensity_classes=[\"N2\", \"H2\"], rule_name=\"Make Ammonia\")\n",
    "    \n",
    "    return [manufacture_ammonia]"
   ]
  },
  {
   "cell_type": "code",
   "execution_count": 4,
   "metadata": {},
   "outputs": [],
   "source": [
    "def supplyChainLocations():\n",
    "    # Billingham terminal - Produces Ammonium nitrate from Ammonia\n",
    "    # https://www.cfindustries.com/newsroom/2023/billingham-ammonia-plant\n",
    "    # https://www.cfindustries.com/what-we-do/fertilizer\n",
    "    all_locations = []\n",
    "    # Midpoints from wikipedia, South East and London uses South East midpoint (combined to match DEFRA reporting)\n",
    "    region_infos = [[55, -1.87, \"North East\"], [55, -1.87, \"North West\"], [53.566667, -1.2, \"Yorkshire & The Humber\"], [52.98, -0.75, \"East Midlands\"], [52.478861, -2.256306, \"West Midlands\"], \n",
    "                    [52.24, 0.41, \"East of England\"], [51.3, -0.8, \"South East & London\"], [50.96, -3.22, \"South West\"], [56.816738, -4.183963, \"Scotland\"], [52.33022, -3.766409,\"Wales\"]]\n",
    "    for region_info in region_infos:\n",
    "        all_locations.append(SupplyChainLocations.FarmRegion(*region_info))\n",
    "    \n",
    "    return all_locations"
   ]
  },
  {
   "cell_type": "code",
   "execution_count": 5,
   "metadata": {},
   "outputs": [
    {
     "name": "stdout",
     "output_type": "stream",
     "text": [
      "1\n",
      "1\n",
      "N2*H2\n",
      "['N2']\n",
      "['N2']\n",
      "['N2', 'H2', 'NH4']\n",
      "MATCHED {0: [], 1: []}\n"
     ]
    },
    {
     "ename": "ValueError",
     "evalue": "Rule 0 has no satisying location for required type index0, type ChemicalPlant NitrogenPlant. Rule will never be trigger - remove rule",
     "output_type": "error",
     "traceback": [
      "\u001b[1;31m---------------------------------------------------------------------------\u001b[0m",
      "\u001b[1;31mValueError\u001b[0m                                Traceback (most recent call last)",
      "Cell \u001b[1;32mIn[5], line 2\u001b[0m\n\u001b[0;32m      1\u001b[0m model \u001b[38;5;241m=\u001b[39m ModelDefinition\u001b[38;5;241m.\u001b[39mModelDefinition(supplyChainClasses, supplyChainLocations, supplyChainRules, )\n\u001b[1;32m----> 2\u001b[0m \u001b[43mmodel\u001b[49m\u001b[38;5;241;43m.\u001b[39;49m\u001b[43mbuild\u001b[49m\u001b[43m(\u001b[49m\u001b[43m)\u001b[49m\n",
      "File \u001b[1;32mc:\\Users\\james\\New folder\\SupplyChain\\Backend\\ModelCreation\\ModelDefinition.py:54\u001b[0m, in \u001b[0;36mModelDefinition.build\u001b[1;34m(self)\u001b[0m\n\u001b[0;32m     52\u001b[0m \u001b[38;5;28mself\u001b[39m\u001b[38;5;241m.\u001b[39mcreateLocations()\n\u001b[0;32m     53\u001b[0m \u001b[38;5;28mself\u001b[39m\u001b[38;5;241m.\u001b[39mcreateRules()\n\u001b[1;32m---> 54\u001b[0m \u001b[38;5;28;43mself\u001b[39;49m\u001b[38;5;241;43m.\u001b[39;49m\u001b[43mmatchRules\u001b[49m\u001b[43m(\u001b[49m\u001b[43m)\u001b[49m\n",
      "File \u001b[1;32mc:\\Users\\james\\New folder\\SupplyChain\\Backend\\ModelCreation\\ModelDefinition.py:48\u001b[0m, in \u001b[0;36mModelDefinition.matchRules\u001b[1;34m(self)\u001b[0m\n\u001b[0;32m     47\u001b[0m \u001b[38;5;28;01mdef\u001b[39;00m \u001b[38;5;21mmatchRules\u001b[39m(\u001b[38;5;28mself\u001b[39m):\n\u001b[1;32m---> 48\u001b[0m     \u001b[43mRuleMatching\u001b[49m\u001b[38;5;241;43m.\u001b[39;49m\u001b[43mwriteMatchedRuleJSON\u001b[49m\u001b[43m(\u001b[49m\u001b[38;5;28;43mself\u001b[39;49m\u001b[38;5;241;43m.\u001b[39;49m\u001b[43mrules\u001b[49m\u001b[43m,\u001b[49m\u001b[43m \u001b[49m\u001b[38;5;28;43mself\u001b[39;49m\u001b[38;5;241;43m.\u001b[39;49m\u001b[43mlocations\u001b[49m\u001b[43m,\u001b[49m\u001b[43m \u001b[49m\u001b[38;5;124;43mf\u001b[39;49m\u001b[38;5;124;43m\"\u001b[39;49m\u001b[38;5;132;43;01m{\u001b[39;49;00m\u001b[38;5;28;43mself\u001b[39;49m\u001b[38;5;241;43m.\u001b[39;49m\u001b[43mmodel_folder\u001b[49m\u001b[38;5;132;43;01m}\u001b[39;49;00m\u001b[38;5;132;43;01m{\u001b[39;49;00m\u001b[38;5;28;43mself\u001b[39;49m\u001b[38;5;241;43m.\u001b[39;49m\u001b[43mmatched_rules_filename\u001b[49m\u001b[38;5;132;43;01m}\u001b[39;49;00m\u001b[38;5;124;43m\"\u001b[39;49m\u001b[43m)\u001b[49m\n",
      "File \u001b[1;32mc:\\Users\\james\\New folder\\SupplyChain\\Backend\\ModelCreation\\RuleMatching.py:125\u001b[0m, in \u001b[0;36mwriteMatchedRuleJSON\u001b[1;34m(rules, locations, filename)\u001b[0m\n\u001b[0;32m    124\u001b[0m \u001b[38;5;28;01mdef\u001b[39;00m \u001b[38;5;21mwriteMatchedRuleJSON\u001b[39m(rules, locations, filename):\n\u001b[1;32m--> 125\u001b[0m     matched_rules \u001b[38;5;241m=\u001b[39m \u001b[43mreturnRuleMatchingIndices\u001b[49m\u001b[43m(\u001b[49m\u001b[43mrules\u001b[49m\u001b[43m,\u001b[49m\u001b[43m \u001b[49m\u001b[43mlocations\u001b[49m\u001b[43m)\u001b[49m\n\u001b[0;32m    127\u001b[0m     concrete_match_rules_dict \u001b[38;5;241m=\u001b[39m {}\n\u001b[0;32m    128\u001b[0m     concrete_rules \u001b[38;5;241m=\u001b[39m \u001b[38;5;241m0\u001b[39m\n",
      "File \u001b[1;32mc:\\Users\\james\\New folder\\SupplyChain\\Backend\\ModelCreation\\RuleMatching.py:69\u001b[0m, in \u001b[0;36mreturnRuleMatchingIndices\u001b[1;34m(rules, locations)\u001b[0m\n\u001b[0;32m     62\u001b[0m         \u001b[38;5;66;03m# Prune rules that will never able to be completed to reduce size.\u001b[39;00m\n\u001b[0;32m     63\u001b[0m         \u001b[38;5;66;03m#correct_length_rules = [] \u001b[39;00m\n\u001b[0;32m     64\u001b[0m         \u001b[38;5;66;03m#for rule_index in rule_indices:\u001b[39;00m\n\u001b[0;32m     65\u001b[0m             \u001b[38;5;66;03m#if len(rule_index) == rule_targets_i+1:\u001b[39;00m\n\u001b[0;32m     66\u001b[0m                 \u001b[38;5;66;03m#correct_length_rules.append(rule_index)\u001b[39;00m\n\u001b[0;32m     68\u001b[0m         \u001b[38;5;28;01mif\u001b[39;00m \u001b[38;5;129;01mnot\u001b[39;00m atleast_one_satisifying:\n\u001b[1;32m---> 69\u001b[0m             \u001b[38;5;28;01mraise\u001b[39;00m(\u001b[38;5;167;01mValueError\u001b[39;00m(\u001b[38;5;124mf\u001b[39m\u001b[38;5;124m\"\u001b[39m\u001b[38;5;124mRule \u001b[39m\u001b[38;5;132;01m{\u001b[39;00mrule_i\u001b[38;5;132;01m}\u001b[39;00m\u001b[38;5;124m has no satisying location for required type index\u001b[39m\u001b[38;5;132;01m{\u001b[39;00mrule_targets_i\u001b[38;5;132;01m}\u001b[39;00m\u001b[38;5;124m, type \u001b[39m\u001b[38;5;132;01m{\u001b[39;00m\u001b[38;5;28mstr\u001b[39m(rule[\u001b[38;5;124m'\u001b[39m\u001b[38;5;124mtarget_types\u001b[39m\u001b[38;5;124m'\u001b[39m][rule_targets_i])\u001b[38;5;132;01m}\u001b[39;00m\u001b[38;5;124m. Rule will never be trigger - remove rule\u001b[39m\u001b[38;5;124m\"\u001b[39m))\n\u001b[0;32m     70\u001b[0m     filled_rules[rule_i] \u001b[38;5;241m=\u001b[39m rule_indices\n\u001b[0;32m     71\u001b[0m \u001b[38;5;28;01mreturn\u001b[39;00m filled_rules\n",
      "\u001b[1;31mValueError\u001b[0m: Rule 0 has no satisying location for required type index0, type ChemicalPlant NitrogenPlant. Rule will never be trigger - remove rule"
     ]
    }
   ],
   "source": [
    "model = ModelDefinition.ModelDefinition(supplyChainClasses, supplyChainLocations, supplyChainRules, )\n",
    "model.build()"
   ]
  },
  {
   "cell_type": "code",
   "execution_count": null,
   "metadata": {},
   "outputs": [],
   "source": []
  }
 ],
 "metadata": {
  "kernelspec": {
   "display_name": ".venv",
   "language": "python",
   "name": "python3"
  },
  "language_info": {
   "codemirror_mode": {
    "name": "ipython",
    "version": 3
   },
   "file_extension": ".py",
   "mimetype": "text/x-python",
   "name": "python",
   "nbconvert_exporter": "python",
   "pygments_lexer": "ipython3",
   "version": "3.10.6"
  }
 },
 "nbformat": 4,
 "nbformat_minor": 2
}
