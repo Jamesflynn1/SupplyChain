{
 "cells": [
  {
   "cell_type": "code",
   "execution_count": null,
   "metadata": {},
   "outputs": [],
   "source": [
    "import numpy as np\n",
    "import SupplyChainLocations\n",
    "import SupplyChainRules\n",
    "import RuleMatching\n",
    "import json"
   ]
  },
  {
   "cell_type": "code",
   "execution_count": null,
   "metadata": {},
   "outputs": [],
   "source": [
    "\n",
    "class ModelDefinition:\n",
    "    def __init__(self, location_filename = \"Locations.json\", metarule_filename = \"MetaRules.json\",\n",
    "                 matched_rules_filename = \"LocationMatchedRules.json\", model_folder = \"Backend/ModelFiles/\"):\n",
    "        self.location_filename = location_filename\n",
    "        self.metarule_filename = metarule_filename\n",
    "        self.matched_rules_filename = matched_rules_filename\n",
    "        self.model_folder = model_folder\n",
    "\n",
    "    def createLocations(self):\n",
    "        all_locations = SupplyChainLocations.Locations()\n",
    "        # Billingham terminal - Produces Ammonium nitrate from Ammonia\n",
    "        # https://www.cfindustries.com/newsroom/2023/billingham-ammonia-plant\n",
    "        # https://www.cfindustries.com/what-we-do/fertilizer\n",
    "        all_locations.addSingleChemicalPlant(1,2, \"Ammonia\")\n",
    "        all_locations.addSingleChemicalPlant(7,4, \"Ammonia\")\n",
    "\n",
    "        all_locations.addSingleChemicalPlant(2,2, \"Nitrogen\")\n",
    "        all_locations.addSingleChemicalPlant(2,5, \"Nitrogen\")\n",
    "        # Midpoints from wikipedia, South East and London uses South East midpoint (combined to match DEFRA reporting)\n",
    "        region_infos = [[55, -1.87, \"North East\"], [55, -1.87, \"North West\"], [53.566667, -1.2, \"Yorkshire & The Humber\"], [52.98, -0.75, \"East Midlands\"], [52.478861, -2.256306, \"West Midlands\"], \n",
    "                        [52.24, 0.41, \"East of England\"], [51.3, -0.8, \"South East & London\"], [50.96, -3.22, \"South West\"], [56.816738, -4.183963, \"Scotland\"], [52.33022, -3.766409,\"Wales\"]]\n",
    "        for region_info in region_infos:\n",
    "            all_locations.addFarmRegion(*region_info)\n",
    "\n",
    "        self.locations = all_locations.writeJSON(f\"{self.model_folder}{self.location_filename}\")\n",
    "\n",
    "    def createRules(self):\n",
    "        # Use np.identity(len()) .... for no change\n",
    "        all_rules = SupplyChainRules.Rules()\n",
    "\n",
    "    \n",
    "        # Move Hydrogen from a supplier\n",
    "        all_rules.addTransportRule(source=\"ChemicalPlant NitrogenPlant\",target=\"ChemicalPlant AmmoniaPlant\", \n",
    "                                   transport_class=\"N2\", propensities=[[\"1\"],[\"1\"]], transport_amount=2,\n",
    "                                   propensity_classes=[[\"N2\"], [\"N2\"]], name=\"Transport Nitrogen\")\n",
    "\n",
    "        all_rules.addSingleLocationProductionRule(target=\"AmmoniaProductsPlant\",\n",
    "                                                  reactant_classes=[\"N2\",\"H2\"], reactant_amount=[1,3], \n",
    "                                                  product_classes=[\"NH4\"],product_amount=[1],propensity=[\"N2H2\",\"1\"],\n",
    "                                                  propensity_classes=[\"N2\", \"H2\"], name=\"Test Ammonia Manufacturing\")\n",
    "        all_rules.addSingleLocationProductionRule(target=\"AmmoniaProductsPlant\",\n",
    "                                                  reactant_classes=[\"N2\",\"H2\"], reactant_amount=[1,3], \n",
    "                                                  product_classes=[\"NH4\"],product_amount=[1],propensity=[\"N2H2\",\"1\"],\n",
    "                                                  propensity_classes=[\"N2\", \"H2\"], name=\"Test Ammonia Manufacturing\")   \n",
    "         \n",
    "        all_rules.addOutOfSystemInboundRule(target=\"AmmoniaProductsPlant\", transport_class=\"NH\")\n",
    "        self.rules = all_rules.writeJSON(f\"{self.model_folder}{self.metarule_filename}\")\n",
    "\n",
    "    def matchRules(self):\n",
    "        RuleMatching.writeMatchedRuleJSON(self.rules, self.locations, f\"{self.model_folder}{self.matched_rules_filename}\")\n",
    "    \n",
    "    def build(self):\n",
    "        self.createLocations()\n",
    "        self.createRules()\n",
    "        self.matchRules()"
   ]
  },
  {
   "cell_type": "code",
   "execution_count": null,
   "metadata": {},
   "outputs": [],
   "source": [
    "model = ModelDefinition()\n",
    "model.build()"
   ]
  }
 ],
 "metadata": {
  "language_info": {
   "name": "python"
  }
 },
 "nbformat": 4,
 "nbformat_minor": 2
}
