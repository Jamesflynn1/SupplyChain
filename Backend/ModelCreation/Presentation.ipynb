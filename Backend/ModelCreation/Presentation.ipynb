{
 "cells": [
  {
   "cell_type": "markdown",
   "metadata": {},
   "source": [
    "# Agricultural Supply Chains\n"
   ]
  },
  {
   "cell_type": "markdown",
   "metadata": {},
   "source": [
    "# A framework for constructing and simulating rule-based models.\n",
    "\n",
    "Before starting development on the supply chain model, I wanted to develop a framework that made creating the rules, locations ect of the model easy, as well as code to validate the correctness of model definition and a way to separate the model creation and the model simulation code.\n",
    "\n",
    "The framework should work to build a variety of models, we illustrate that here by building a stochastic SEIR model with a spatial-based transmission propensity (pending development work).\n",
    "\n",
    "## Building Blocks"
   ]
  },
  {
   "cell_type": "markdown",
   "metadata": {},
   "source": [
    "### Classes\n",
    "\n",
    "The individual compartments of the model, defined by a name, a unit and an optional flag to indicate what type of restrictions to apply to the class (Work in progress, but e.g. should be an integer). By defining a class with a unit ..."
   ]
  },
  {
   "cell_type": "code",
   "execution_count": null,
   "metadata": {},
   "outputs": [],
   "source": [
    "epiClasses = [[\"S\", \"people (thousands)\"], [\"E\", \"people (thousands)\"], [\"I\", \"people (thousands)\"], [\"R\", \"people (thousands)\"]]"
   ]
  },
  {
   "cell_type": "markdown",
   "metadata": {},
   "source": [
    "### Locations \n",
    "\n",
    "Locations serve to group together different classes and form a core part of the \"rule matching\" system. \n",
    "\n",
    "Comprised of a set of a classes, a type. Optionally each location type has constants and variables set at an instance level and defined at a type/class level.\n",
    "\n",
    "By recording lat/long of each location, we can (and do) compute all pairwise distances, at the moment using the Haversine formula but this could for example be fed from Google Maps."
   ]
  },
  {
   "cell_type": "code",
   "execution_count": null,
   "metadata": {},
   "outputs": [],
   "source": [
    "# We define our location classes.\n",
    "class Region (ModelLocations.Location):\n",
    "    def __init__(self, lat, long, name):\n",
    "        # Sets lat/long and creates and empty set of compartment labels.\n",
    "        super().__init__(lat, long, name, loc_type=\"Region\")\n",
    "\n",
    "        self.class_labels.add(\"S\")\n",
    "        self.class_labels.add(\"E\")\n",
    "        self.class_labels.add(\"I\")\n",
    "        self.class_labels.add(\"R\")"
   ]
  },
  {
   "cell_type": "code",
   "execution_count": null,
   "metadata": {},
   "outputs": [],
   "source": [
    "# We define our different locations\n",
    "\n",
    "# There is great flexibility, as long as the function returns an array of Locations (only require the parent class is Location).\n",
    "\n",
    "def epiLocations():\n",
    "    all_locations = []\n",
    "    # Midpoints from wikipedia, South East and London uses South East midpoint (combined to match DEFRA reporting)\n",
    "    region_infos = [[0, 0, \"Test Region\"], [54.075, -2.75, \"North East\"], [55, -1.87, \"North West\"], [53.566667, -1.2, \"Yorkshire & The Humber\"], \n",
    "                    [52.98, -0.75, \"East Midlands\"], [52.478861, -2.256306, \"West Midlands\"], \n",
    "                    [52.24, 0.41, \"East of England\"], [51.515447, -0.09214, \"London\"], [51.3, -0.8, \"South East\"], \n",
    "                    [50.96, -3.22, \"South West\"], [56.816738, -4.183963, \"Scotland\"], \n",
    "                    [52.33022, -3.766409,\"Wales\"]]\n",
    "    # ONS mid 2022 estimates\n",
    "    region_populations = list(0.001*np.array([100000, 2683040, 7516113, 5541262, 4934939, 6021653, 6398497, 8866180, \n",
    "                                              9379833, 5764881, 5447700, 3131640]))\n",
    "\n",
    "    for region_index, region_info in enumerate(region_infos):\n",
    "        # Creates a region from each array entry in region infos\n",
    "        region = Region(*region_info)\n",
    "        # Sets 1000 infected people in every region and everyone else as susceptible\n",
    "        region.setInitialConditions({\"S\":region_populations[region_index]-1,\"I\":1})\n",
    "        all_locations.append(region)\n",
    "\n",
    "    \n",
    "    return all_locations"
   ]
  },
  {
   "cell_type": "markdown",
   "metadata": {},
   "source": [
    "### Rules \n",
    "\n",
    "Comprised of each of a propensity, stochiometry and a type for any number of locations. At the moment the propensities for each location are mutiplied together. Stochiometry is a per location numpy array and propensity is a per location sympy formula for each class. Symbols supported include any class present at the location, model state information (e.g. model_month_mar which is an indicator variable for March, these can be chained together to allow for seasonality) and constants/functions supported by sympy"
   ]
  },
  {
   "cell_type": "code",
   "execution_count": null,
   "metadata": {},
   "outputs": [],
   "source": [
    "model_constants = {\n",
    "    \"Exposure_rate\":2,\n",
    "    \"Infection_rate\":1,\n",
    "    \"Recovery_rate\":0.2,\n",
    "    \"Death_proportion\":0.01,\n",
    "    \"Standard_Transport_prop\":0.001,\n",
    "    \"Infected_Transport_prop\":0.0001\n",
    "}"
   ]
  },
  {
   "cell_type": "code",
   "execution_count": null,
   "metadata": {},
   "outputs": [],
   "source": [
    "# Here we rely on prefilled SingleLocationProductRule, ExitEntranceRule, TransportRule classes to simplify the creation of rules\n",
    "\n",
    "# There is great flexibility, as long as the function returns an array of Rules.\n",
    "\n",
    "def epiRules():\n",
    "    # Frequency vs prevalance - /N but can also use a frequency propensity (fits some dieases better than others).\n",
    "    # Here we observe model_month_jan and model_month_feb, these indicators can be used to create a seasonal effect in the infectivity of a diease. \n",
    "    exposure = SupplyChainRules.SingleLocationProductionRule(\"Region\", [\"S\"], [1], [\"E\"], [1], \n",
    "                                                              f\"{model_constants['Exposure_rate']}*I*S/(S+E+I+R)*model_month_jan +\\\n",
    "                                                                {model_constants['Exposure_rate']}*I*S/(S+E+I+R)*model_month_feb\",\n",
    "                                                              [\"S\",\"E\",\"I\",\"R\"], \"Exposure\")\n",
    "    infection = SupplyChainRules.SingleLocationProductionRule(\"Region\", [\"E\"], [1], [\"I\"], [1], \n",
    "                                                              f\"{model_constants['Infection_rate']}*E\",\n",
    "                                                              [\"E\"], \"Infection\")    \n",
    "    recovery = SupplyChainRules.SingleLocationProductionRule(\"Region\", [\"I\"], [1], [\"R\"], [1],\n",
    "                                                            f\"{model_constants['Recovery_rate']}*I\",\n",
    "                                                            [\"I\"], \"Recovery\")\n",
    "    death = SupplyChainRules.ExitEntranceRule(\"Region\", \"I\", 1, \n",
    "                                              f\"{model_constants['Death_proportion']}*{model_constants['Recovery_rate']}*I\", [\"I\"], \"Death\")\n",
    "    \n",
    "    transports = []\n",
    "    # Here we describe the rules that govern the movement of each infection class between regions.\n",
    "    # The rule matching systems will create 66*4 rules for each ordered pair of regions of the UK for all infection states.\n",
    "    for transport in [\"S\",\"E\",\"I\",\"R\"]:\n",
    "        if transport == \"I\":\n",
    "            relocation_rate = model_constants[\"Infected_Transport_prop\"]\n",
    "        else:\n",
    "            relocation_rate = model_constants[\"Standard_Transport_prop\"]\n",
    "\n",
    "        transports.append(SupplyChainRules.TransportRule(\"Region\", \"Region\", transport, [f\"{str(relocation_rate)}*{transport}\",\"1\"], \n",
    "                                                     1, [[transport], [\"S\"]], \"Movement\"))\n",
    "        \n",
    "    return [exposure, infection, recovery, death] + transports"
   ]
  },
  {
   "cell_type": "markdown",
   "metadata": {},
   "source": [
    "#### Putting everything together"
   ]
  },
  {
   "cell_type": "code",
   "execution_count": null,
   "metadata": {},
   "outputs": [],
   "source": [
    "model = ModelDefinition.ModelDefinition(epiClasses, epiLocations, epiRules, model_folder=\"../ModelFiles/RegionalEpi/\")\n",
    "model.build()"
   ]
  },
  {
   "cell_type": "markdown",
   "metadata": {},
   "source": [
    "State information vs classes - while state information such as time, could be encoded as a class and the dynamics could be encoded as rules, it could make sense to conceptually separate quantities such as time, particularly as this is shared across the model, the time increment isn't constant and \n",
    "\n",
    "\n",
    "## Construction\n",
    "\n",
    "The model construction is programmatic at the moment - with further work, a model could be created interactively using a UI. \n",
    "\n",
    "Basic checks ensure that model construction is correct (locations have classes required by rules, locations exists such that the rule could be triggered, the propensity is a well defined formula, all classes are defined).\n",
    "\n",
    "\"Rule matching\", rather than defining a rule between all pairs, triplets, ect of locations we can define a \"meta-rule\". Each location has a type associated, and each rule has a type for each location slot. All permutations of locations that match the location slots are found, and each of these form a possible way the rule can be triggered.\n",
    "\n",
    "We note that at the moment the order of the location matters - support may be added for rule matching without consideration of the order of the matching.\n",
    "\n",
    "\n",
    "## Simulation\n",
    "\n",
    "Currently implemented the Gillespie algorithm, aim to implement atleast the Tau-leaping algorithm.\n",
    "\n",
    "Model state information - allows \n",
    "\n",
    "Maybe have location specific state information?\n",
    "\n",
    "Returns a trajectory object - only basic plotting at the moment but plan to add significantly more."
   ]
  },
  {
   "cell_type": "code",
   "execution_count": null,
   "metadata": {},
   "outputs": [],
   "source": [
    "import Application\n",
    "import datetime\n",
    "\n",
    "start_date = datetime.datetime(2001, 1, 1)\n",
    "\n",
    "epi_application = Application.ModelBackend(start_date=start_date, model_folder=\"../ModelFiles/RegionalEpi/\")\n",
    "out = epi_application.simulate(time_limit=365)\n",
    "\n",
    "out.plotAllClassesOverTime(location_index=0)"
   ]
  },
  {
   "cell_type": "markdown",
   "metadata": {},
   "source": [
    "# An example model: UK Crop Agricultural Supply Chains"
   ]
  },
  {
   "cell_type": "markdown",
   "metadata": {},
   "source": [
    "# Crops\n",
    "\n",
    "We split the crops into wheat, barley ect and further into the stage of plant growth, from unplanted seed into harvested plant, at each stage, we will model the growth as well as the wastage - (e.g failure to germinate, plant death).\n",
    "\n",
    "There will be a large emphasis on the seasonality of each of the stages aswell as the weather/growing condiditions.\n",
    "\n",
    "Additionally, we will try to model the impact of soil qualtiy/health on growing conditions with an emphasis on Nitrogen "
   ]
  },
  {
   "cell_type": "markdown",
   "metadata": {},
   "source": [
    "# Weather\n",
    "\n",
    "Weather is extremely important to agriculture and this is particularly interesting to look at with the ongoing trend of climate change."
   ]
  },
  {
   "cell_type": "markdown",
   "metadata": {},
   "source": [
    "# Fertiliser/Soil Quality\n",
    "\n",
    "Fertiliser remains a critical component to ensure high crop yields - especially nitrogen fertiliser."
   ]
  },
  {
   "cell_type": "markdown",
   "metadata": {},
   "source": [
    "# Import/Export\n",
    "\n",
    "International links are essential for our food security. Large parts of the fertiliser supply chain in the UK rely on international exports - natural gas and even raw ammonia are typically shipped in from the US/EU. Therefore modelling the effect of supply disruption, due to shipping delays, trade policy ect is vital to understand the UK's food security."
   ]
  },
  {
   "cell_type": "markdown",
   "metadata": {
    "vscode": {
     "languageId": "plaintext"
    }
   },
   "source": [
    "# Supply/Demand and economics effects\n",
    "\n",
    "An attractive projected wheat price will encourage farmers to plant, increasing the supply of wheat and reducing the imbalance. We would expect this imbalance to reduce over time as market participants react to the changing conditions."
   ]
  },
  {
   "cell_type": "markdown",
   "metadata": {},
   "source": []
  }
 ],
 "metadata": {
  "language_info": {
   "name": "python"
  }
 },
 "nbformat": 4,
 "nbformat_minor": 2
}
