{
 "cells": [
  {
   "cell_type": "markdown",
   "metadata": {},
   "source": [
    "# A spatial Stochastic SEIR model using the framework\n",
    "\n",
    "## Rules:\n",
    "\n",
    "### Intralocation rules\n",
    "Exposure: S -> E\n",
    "\n",
    "Infection: E -> I\n",
    "\n",
    "Recovery: I -> R\n",
    "### Translocation rules\n",
    "Movement (Susceptible, Exposed, Recovered): S_{L1} -> S_{L2}, E_{L1} -> E_{L2}, R_{L1} -> R_{L2}\n",
    "\n",
    "Movement (Infected): I_{L1} -> I_{L2}"
   ]
  },
  {
   "cell_type": "code",
   "execution_count": 8,
   "metadata": {},
   "outputs": [],
   "source": [
    "import numpy as np\n",
    "\n",
    "import SupplyChainRules, ModelDefinition, ModelLocations\n"
   ]
  },
  {
   "cell_type": "code",
   "execution_count": 9,
   "metadata": {},
   "outputs": [],
   "source": [
    "epiClasses = [[\"S\", \"people\"], [\"E\", \"people\"], [\"I\", \"people\"], [\"R\", \"people\"]]"
   ]
  },
  {
   "cell_type": "code",
   "execution_count": 10,
   "metadata": {},
   "outputs": [],
   "source": [
    "model_constants = {\n",
    "    \"Exposure_rate\":2,\n",
    "    \"Infection_rate\":1,\n",
    "    \"Recovery_rate\":0.2,\n",
    "    \"Death_proportion\":0.01,\n",
    "    \"Standard_Transport_prop\":0.001,\n",
    "    \"Infected_Transport_prop\":0.0001\n",
    "}"
   ]
  },
  {
   "cell_type": "code",
   "execution_count": 11,
   "metadata": {},
   "outputs": [],
   "source": [
    "def epidemologyRules():\n",
    "    # Frequency vs prevalance - /N but can also use a frequency propensity (fits some dieases better than others).\n",
    "    exposure = SupplyChainRules.SingleLocationProductionRule(\"Region\", [\"S\"], [1], [\"E\"], [1], \n",
    "                                                              f\"loc_regional_inf*{model_constants['Exposure_rate']}*I*S/(S+E+I+R)*model_month_jan +{model_constants['Exposure_rate']}*I*S/(S+E+I+R)*model_month_feb\",\n",
    "                                                              [\"S\",\"E\",\"I\",\"R\"], \"Exposure\")\n",
    "    infection = SupplyChainRules.SingleLocationProductionRule(\"Region\", [\"E\"], [1], [\"I\"], [1], \n",
    "                                                              f\"{model_constants['Infection_rate']}*E\",\n",
    "                                                              [\"E\"], \"Infection\")    \n",
    "    recovery = SupplyChainRules.SingleLocationProductionRule(\"Region\", [\"I\"], [1], [\"R\"], [1],\n",
    "                                                            f\"{model_constants['Recovery_rate']}*I\",\n",
    "                                                            [\"I\"], \"Recovery\")\n",
    "    death = SupplyChainRules.ExitEntranceRule(\"Region\", \"I\", 1, \n",
    "                                              f\"{model_constants['Death_proportion']}*{model_constants['Recovery_rate']}*I\", [\"I\"], \"Death\")\n",
    "    \n",
    "    transports = []\n",
    "    for transport in [\"S\",\"E\",\"I\",\"R\"]:\n",
    "        if transport == \"I\":\n",
    "            relocation_rate = model_constants[\"Infected_Transport_prop\"]\n",
    "        else:\n",
    "            relocation_rate = model_constants[\"Standard_Transport_prop\"]\n",
    "\n",
    "        transports.append(SupplyChainRules.TransportRule(\"Region\", \"Region\", transport, [f\"{str(relocation_rate)}*{transport}\",\"1\"], \n",
    "                                                     1, [[transport], [\"S\"]], \"Movement\"))\n",
    "        \n",
    "    return [exposure, infection, recovery, death] + transports"
   ]
  },
  {
   "cell_type": "code",
   "execution_count": 12,
   "metadata": {},
   "outputs": [],
   "source": [
    "class Region (ModelLocations.Location):\n",
    "    def __init__(self, lat, long, name):\n",
    "        # Sets lat/long and creates and empty set of compartment labels.\n",
    "        super().__init__(lat, long, name, loc_type=\"Region\", constants=[\"regional_inf\"])\n",
    "        self.class_labels.add(\"S\")\n",
    "        self.class_labels.add(\"E\")\n",
    "        self.class_labels.add(\"I\")\n",
    "        self.class_labels.add(\"R\")\n",
    "\n",
    "def sirLocations():\n",
    "    all_locations = []\n",
    "    # Midpoints from wikipedia, South East and London uses South East midpoint (combined to match DEFRA reporting)\n",
    "    region_infos = [[0, 0, \"Test Region\"], [54.075, -2.75, \"North East\"], [55, -1.87, \"North West\"], [53.566667, -1.2, \"Yorkshire & The Humber\"], [52.98, -0.75, \"East Midlands\"], [52.478861, -2.256306, \"West Midlands\"], \n",
    "                    [52.24, 0.41, \"East of England\"], [51.515447, -0.09214, \"London\"], [51.3, -0.8, \"South East\"], [50.96, -3.22, \"South West\"], [56.816738, -4.183963, \"Scotland\"], \n",
    "                    [52.33022, -3.766409,\"Wales\"]]\n",
    "    # ONS mid 2022 estimates\n",
    "    region_populations = list(0.001*np.array([10000, 2683040, 7516113, 5541262, 4934939, 6021653, 6398497, 8866180, 9379833, 5764881, 5447700, 3131640]))\n",
    "\n",
    "    for region_index, region_info in enumerate(region_infos):\n",
    "        region = Region(*region_info)\n",
    "        # Defaults to zero otherwise\n",
    "        region.setInitialConditions({\"S\":region_populations[region_index],\"I\":100})\n",
    "        region.setConstants({\"regional_inf\":0.2})\n",
    "        all_locations.append(region)\n",
    "\n",
    "    return all_locations"
   ]
  },
  {
   "cell_type": "code",
   "execution_count": 13,
   "metadata": {},
   "outputs": [
    {
     "name": "stdout",
     "output_type": "stream",
     "text": [
      "loc_regional_inf*2*I*S/(S+E+I+R)*model_month_jan +2*I*S/(S+E+I+R)*model_month_feb\n",
      "1*E\n",
      "0.2*I\n",
      "0.01*0.2*I\n",
      "0.001*S\n",
      "1\n",
      "0.001*E\n",
      "1\n",
      "0.0001*I\n",
      "1\n",
      "0.001*R\n",
      "1\n"
     ]
    },
    {
     "ename": "TypeError",
     "evalue": "Rule.checkRuleDefinition() missing 1 required positional argument: 'locations_constants'",
     "output_type": "error",
     "traceback": [
      "\u001b[1;31m---------------------------------------------------------------------------\u001b[0m",
      "\u001b[1;31mTypeError\u001b[0m                                 Traceback (most recent call last)",
      "Cell \u001b[1;32mIn[13], line 2\u001b[0m\n\u001b[0;32m      1\u001b[0m model \u001b[38;5;241m=\u001b[39m ModelDefinition\u001b[38;5;241m.\u001b[39mModelDefinition(epiClasses, sirLocations, epidemologyRules, model_folder\u001b[38;5;241m=\u001b[39m\u001b[38;5;124m\"\u001b[39m\u001b[38;5;124m../ModelFiles/RegionalEpi/\u001b[39m\u001b[38;5;124m\"\u001b[39m)\n\u001b[1;32m----> 2\u001b[0m \u001b[43mmodel\u001b[49m\u001b[38;5;241;43m.\u001b[39;49m\u001b[43mbuild\u001b[49m\u001b[43m(\u001b[49m\u001b[43m)\u001b[49m\n",
      "File \u001b[1;32mc:\\Users\\james\\Documents\\Supply Chain\\SupplyChain\\Backend\\ModelCreation\\ModelDefinition.py:59\u001b[0m, in \u001b[0;36mModelDefinition.build\u001b[1;34m(self)\u001b[0m\n\u001b[0;32m     57\u001b[0m \u001b[38;5;28mself\u001b[39m\u001b[38;5;241m.\u001b[39mdefineClasses()\n\u001b[0;32m     58\u001b[0m \u001b[38;5;28mself\u001b[39m\u001b[38;5;241m.\u001b[39mcreateLocations()\n\u001b[1;32m---> 59\u001b[0m \u001b[38;5;28;43mself\u001b[39;49m\u001b[38;5;241;43m.\u001b[39;49m\u001b[43mcreateRules\u001b[49m\u001b[43m(\u001b[49m\u001b[43m)\u001b[49m\n\u001b[0;32m     60\u001b[0m \u001b[38;5;28mself\u001b[39m\u001b[38;5;241m.\u001b[39mmatchRules()\n",
      "File \u001b[1;32mc:\\Users\\james\\Documents\\Supply Chain\\SupplyChain\\Backend\\ModelCreation\\ModelDefinition.py:41\u001b[0m, in \u001b[0;36mModelDefinition.createRules\u001b[1;34m(self)\u001b[0m\n\u001b[0;32m     38\u001b[0m rules \u001b[38;5;241m=\u001b[39m \u001b[38;5;28mself\u001b[39m\u001b[38;5;241m.\u001b[39mcreate_rules_func()\n\u001b[0;32m     39\u001b[0m all_rules\u001b[38;5;241m.\u001b[39maddRules(rules)\n\u001b[1;32m---> 41\u001b[0m \u001b[38;5;28mself\u001b[39m\u001b[38;5;241m.\u001b[39mrules \u001b[38;5;241m=\u001b[39m \u001b[43mall_rules\u001b[49m\u001b[38;5;241;43m.\u001b[39;49m\u001b[43mwriteJSON\u001b[49m\u001b[43m(\u001b[49m\u001b[38;5;124;43mf\u001b[39;49m\u001b[38;5;124;43m\"\u001b[39;49m\u001b[38;5;132;43;01m{\u001b[39;49;00m\u001b[38;5;28;43mself\u001b[39;49m\u001b[38;5;241;43m.\u001b[39;49m\u001b[43mmodel_folder\u001b[49m\u001b[38;5;132;43;01m}\u001b[39;49;00m\u001b[38;5;132;43;01m{\u001b[39;49;00m\u001b[38;5;28;43mself\u001b[39;49m\u001b[38;5;241;43m.\u001b[39;49m\u001b[43mmetarule_filename\u001b[49m\u001b[38;5;132;43;01m}\u001b[39;49;00m\u001b[38;5;124;43m\"\u001b[39;49m\u001b[43m)\u001b[49m\n",
      "File \u001b[1;32mc:\\Users\\james\\Documents\\Supply Chain\\SupplyChain\\Backend\\ModelCreation\\ModelRules.py:153\u001b[0m, in \u001b[0;36mRules.writeJSON\u001b[1;34m(self, filename)\u001b[0m\n\u001b[0;32m    152\u001b[0m \u001b[38;5;28;01mdef\u001b[39;00m \u001b[38;5;21mwriteJSON\u001b[39m(\u001b[38;5;28mself\u001b[39m, filename):\n\u001b[1;32m--> 153\u001b[0m     \u001b[38;5;28;43mself\u001b[39;49m\u001b[38;5;241;43m.\u001b[39;49m\u001b[43mcheckRules\u001b[49m\u001b[43m(\u001b[49m\u001b[43m)\u001b[49m\n\u001b[0;32m    154\u001b[0m     rules_dict \u001b[38;5;241m=\u001b[39m {}\n\u001b[0;32m    155\u001b[0m     \u001b[38;5;28;01mfor\u001b[39;00m i, rule \u001b[38;5;129;01min\u001b[39;00m \u001b[38;5;28menumerate\u001b[39m(\u001b[38;5;28mself\u001b[39m\u001b[38;5;241m.\u001b[39mrules):\n",
      "File \u001b[1;32mc:\\Users\\james\\Documents\\Supply Chain\\SupplyChain\\Backend\\ModelCreation\\ModelRules.py:136\u001b[0m, in \u001b[0;36mRules.checkRules\u001b[1;34m(self)\u001b[0m\n\u001b[0;32m    134\u001b[0m \u001b[38;5;28;01mdef\u001b[39;00m \u001b[38;5;21mcheckRules\u001b[39m(\u001b[38;5;28mself\u001b[39m):\n\u001b[0;32m    135\u001b[0m     \u001b[38;5;28;01mfor\u001b[39;00m rule \u001b[38;5;129;01min\u001b[39;00m \u001b[38;5;28mself\u001b[39m\u001b[38;5;241m.\u001b[39mrules:\n\u001b[1;32m--> 136\u001b[0m         \u001b[43mrule\u001b[49m\u001b[38;5;241;43m.\u001b[39;49m\u001b[43mcheckRuleDefinition\u001b[49m\u001b[43m(\u001b[49m\u001b[38;5;28;43mself\u001b[39;49m\u001b[38;5;241;43m.\u001b[39;49m\u001b[43mbuiltin_symbols\u001b[49m\u001b[43m)\u001b[49m\n\u001b[0;32m    138\u001b[0m         \u001b[38;5;28;01mfor\u001b[39;00m propensity_class_index \u001b[38;5;129;01min\u001b[39;00m \u001b[38;5;28mrange\u001b[39m(\u001b[38;5;28mlen\u001b[39m(rule\u001b[38;5;241m.\u001b[39mpropensity_classes)):\n\u001b[0;32m    139\u001b[0m             location_propensity_class \u001b[38;5;241m=\u001b[39m rule\u001b[38;5;241m.\u001b[39mpropensity_classes[propensity_class_index]\n",
      "\u001b[1;31mTypeError\u001b[0m: Rule.checkRuleDefinition() missing 1 required positional argument: 'locations_constants'"
     ]
    }
   ],
   "source": [
    "model = ModelDefinition.ModelDefinition(epiClasses, sirLocations, epidemologyRules, model_folder=\"../ModelFiles/RegionalEpi/\")\n",
    "model.build()"
   ]
  },
  {
   "cell_type": "code",
   "execution_count": null,
   "metadata": {},
   "outputs": [],
   "source": []
  },
  {
   "cell_type": "code",
   "execution_count": null,
   "metadata": {},
   "outputs": [],
   "source": []
  }
 ],
 "metadata": {
  "kernelspec": {
   "display_name": ".venv",
   "language": "python",
   "name": "python3"
  },
  "language_info": {
   "codemirror_mode": {
    "name": "ipython",
    "version": 3
   },
   "file_extension": ".py",
   "mimetype": "text/x-python",
   "name": "python",
   "nbconvert_exporter": "python",
   "pygments_lexer": "ipython3",
   "version": "3.12.0"
  }
 },
 "nbformat": 4,
 "nbformat_minor": 2
}
