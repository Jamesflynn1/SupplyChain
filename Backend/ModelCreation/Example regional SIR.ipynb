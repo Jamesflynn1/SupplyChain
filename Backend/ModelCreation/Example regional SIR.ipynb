{
 "cells": [
  {
   "cell_type": "markdown",
   "metadata": {},
   "source": [
    "# A spatial Stochastic SEIR model using the framework\n",
    "\n",
    "## Rules:\n",
    "\n",
    "### Intralocation rules\n",
    "Exposure: S -> E\n",
    "\n",
    "Infection: E -> I\n",
    "\n",
    "Recovery: I -> R\n",
    "### Translocation rules\n",
    "Movement (Susceptible, Exposed, Recovered): S_{L1} -> S_{L2}, E_{L1} -> E_{L2}, R_{L1} -> R_{L2}\n",
    "\n",
    "Movement (Infected): I_{L1} -> I_{L2}"
   ]
  },
  {
   "cell_type": "code",
   "execution_count": 1,
   "metadata": {},
   "outputs": [],
   "source": [
    "import numpy as np\n",
    "\n",
    "import SupplyChainRules, ModelDefinition, ModelLocations\n"
   ]
  },
  {
   "cell_type": "code",
   "execution_count": 2,
   "metadata": {},
   "outputs": [],
   "source": [
    "epiClasses = [[\"S\", \"people\"], [\"E\", \"people\"], [\"I\", \"people\"], [\"R\", \"people\"]]"
   ]
  },
  {
   "cell_type": "code",
   "execution_count": 3,
   "metadata": {},
   "outputs": [],
   "source": [
    "model_constants = {\n",
    "    \"Exposure_rate\":2,\n",
    "    \"Infection_rate\":1,\n",
    "    \"Recovery_rate\":0.2,\n",
    "    \"Death_proportion\":0.01,\n",
    "    \"Standard_Transport_prop\":0.001,\n",
    "    \"Infected_Transport_prop\":0.0001\n",
    "}"
   ]
  },
  {
   "cell_type": "code",
   "execution_count": 4,
   "metadata": {},
   "outputs": [],
   "source": [
    "def epidemologyRules():\n",
    "    # Frequency vs prevalance - /N but can also use a frequency propensity (fits some dieases better than others).\n",
    "    exposure = SupplyChainRules.SingleLocationProductionRule(\"Region\", [\"S\"], [1], [\"E\"], [1], \n",
    "                                                              f\"loc_regional_inf*{model_constants['Exposure_rate']}*I*S/(S+E+I+R)*model_month_jan +{model_constants['Exposure_rate']}*I*S/(S+E+I+R)*model_month_feb\",\n",
    "                                                              [\"S\",\"E\",\"I\",\"R\"], \"Exposure\")\n",
    "    infection = SupplyChainRules.SingleLocationProductionRule(\"Region\", [\"E\"], [1], [\"I\"], [1], \n",
    "                                                              f\"{model_constants['Infection_rate']}*E\",\n",
    "                                                              [\"E\"], \"Infection\")    \n",
    "    recovery = SupplyChainRules.SingleLocationProductionRule(\"Region\", [\"I\"], [1], [\"R\"], [1],\n",
    "                                                            f\"{model_constants['Recovery_rate']}*I\",\n",
    "                                                            [\"I\"], \"Recovery\")\n",
    "    death = SupplyChainRules.ExitEntranceRule(\"Region\", \"I\", 1, \n",
    "                                              f\"{model_constants['Death_proportion']}*{model_constants['Recovery_rate']}*I\", [\"I\"], \"Death\")\n",
    "    \n",
    "    transports = []\n",
    "    for transport in [\"S\",\"E\",\"I\",\"R\"]:\n",
    "        if transport == \"I\":\n",
    "            relocation_rate = model_constants[\"Infected_Transport_prop\"]\n",
    "        else:\n",
    "            relocation_rate = model_constants[\"Standard_Transport_prop\"]\n",
    "\n",
    "        transports.append(SupplyChainRules.TransportRule(\"Region\", \"Region\", transport, [f\"{str(relocation_rate)}*{transport}\",\"1\"], \n",
    "                                                     1, [[transport], [\"S\"]], \"Movement\"))\n",
    "        \n",
    "    return [exposure, infection, recovery, death] + transports"
   ]
  },
  {
   "cell_type": "code",
   "execution_count": 5,
   "metadata": {},
   "outputs": [],
   "source": [
    "class Region (ModelLocations.Location):\n",
    "    def __init__(self, lat, long, name):\n",
    "        # Sets lat/long and creates and empty set of compartment labels.\n",
    "        super().__init__(lat, long, name, loc_type=\"Region\", constants=[\"regional_inf\"])\n",
    "        self.class_labels.add(\"S\")\n",
    "        self.class_labels.add(\"E\")\n",
    "        self.class_labels.add(\"I\")\n",
    "        self.class_labels.add(\"R\")\n",
    "\n",
    "def sirLocations():\n",
    "    all_locations = []\n",
    "    # Midpoints from wikipedia, South East and London uses South East midpoint (combined to match DEFRA reporting)\n",
    "    region_infos = [[0, 0, \"Test Region\"], [54.075, -2.75, \"North East\"], [55, -1.87, \"North West\"], [53.566667, -1.2, \"Yorkshire & The Humber\"], [52.98, -0.75, \"East Midlands\"], [52.478861, -2.256306, \"West Midlands\"], \n",
    "                    [52.24, 0.41, \"East of England\"], [51.515447, -0.09214, \"London\"], [51.3, -0.8, \"South East\"], [50.96, -3.22, \"South West\"], [56.816738, -4.183963, \"Scotland\"], \n",
    "                    [52.33022, -3.766409,\"Wales\"]]\n",
    "    # ONS mid 2022 estimates\n",
    "    region_populations = list(0.001*np.array([10000, 2683040, 7516113, 5541262, 4934939, 6021653, 6398497, 8866180, 9379833, 5764881, 5447700, 3131640]))\n",
    "    for region_index, region_info in enumerate(region_infos):\n",
    "        region = Region(*region_info)\n",
    "        # Defaults to zero otherwise\n",
    "        region.setInitialConditions({\"S\":region_populations[region_index],\"I\":100})\n",
    "        region.setConstants({\"regional_inf\":0.2})\n",
    "        all_locations.append(region)\n",
    "\n",
    "    return all_locations"
   ]
  },
  {
   "cell_type": "code",
   "execution_count": 6,
   "metadata": {},
   "outputs": [
    {
     "name": "stdout",
     "output_type": "stream",
     "text": [
      "loc_regional_inf*2*I*S/(S+E+I+R)*model_month_jan +2*I*S/(S+E+I+R)*model_month_feb\n",
      "1*E\n",
      "0.2*I\n",
      "0.01*0.2*I\n",
      "0.001*S\n",
      "1\n",
      "0.001*E\n",
      "1\n",
      "0.0001*I\n",
      "1\n",
      "0.001*R\n",
      "1\n",
      "1.00000000000000\n",
      "['S', 'E']\n",
      "1.00000000000000\n",
      "['E', 'I']\n",
      "0.200000000000000\n",
      "['I', 'R']\n",
      "0.00200000000000000\n",
      "['I']\n",
      "0.00100000000000000\n",
      "1.00000000000000\n",
      "['S']\n",
      "['S']\n",
      "0.00100000000000000\n",
      "1.00000000000000\n",
      "['E']\n",
      "['E']\n",
      "0.000100000000000000\n",
      "1.00000000000000\n",
      "['I']\n",
      "['I']\n",
      "0.00100000000000000\n",
      "1.00000000000000\n",
      "['R']\n",
      "['R']\n",
      "MATCHED {0: [0, 1, 2, 3, 4, 5, 6, 7, 8, 9, 10, 11]}\n",
      "MATCHED {0: [0, 1, 2, 3, 4, 5, 6, 7, 8, 9, 10, 11]}\n",
      "MATCHED {0: [0, 1, 2, 3, 4, 5, 6, 7, 8, 9, 10, 11]}\n",
      "MATCHED {0: [0, 1, 2, 3, 4, 5, 6, 7, 8, 9, 10, 11]}\n",
      "MATCHED {0: [0, 1, 2, 3, 4, 5, 6, 7, 8, 9, 10, 11], 1: [0, 1, 2, 3, 4, 5, 6, 7, 8, 9, 10, 11]}\n",
      "MATCHED {0: [0, 1, 2, 3, 4, 5, 6, 7, 8, 9, 10, 11], 1: [0, 1, 2, 3, 4, 5, 6, 7, 8, 9, 10, 11]}\n",
      "MATCHED {0: [0, 1, 2, 3, 4, 5, 6, 7, 8, 9, 10, 11], 1: [0, 1, 2, 3, 4, 5, 6, 7, 8, 9, 10, 11]}\n",
      "MATCHED {0: [0, 1, 2, 3, 4, 5, 6, 7, 8, 9, 10, 11], 1: [0, 1, 2, 3, 4, 5, 6, 7, 8, 9, 10, 11]}\n",
      "['y0*2*x1*x3/(x3+x0+x1+x2)*x10 +2*x1*x3/(x3+x0+x1+x2)*x9']\n",
      "['1*x0']\n",
      "['0.2*x1']\n",
      "['0.01*0.2*x1']\n",
      "['0.001*x3', '1']\n",
      "['0.001*x0', '1']\n",
      "['0.0001*x1', '1']\n",
      "['0.001*x2', '1']\n"
     ]
    }
   ],
   "source": [
    "model = ModelDefinition.ModelDefinition(epiClasses, sirLocations, epidemologyRules, model_folder=\"../ModelFiles/RegionalEpi/\")\n",
    "model.build()"
   ]
  },
  {
   "cell_type": "code",
   "execution_count": null,
   "metadata": {},
   "outputs": [],
   "source": []
  },
  {
   "cell_type": "code",
   "execution_count": null,
   "metadata": {},
   "outputs": [],
   "source": []
  }
 ],
 "metadata": {
  "kernelspec": {
   "display_name": ".venv",
   "language": "python",
   "name": "python3"
  },
  "language_info": {
   "codemirror_mode": {
    "name": "ipython",
    "version": 3
   },
   "file_extension": ".py",
   "mimetype": "text/x-python",
   "name": "python",
   "nbconvert_exporter": "python",
   "pygments_lexer": "ipython3",
   "version": "3.10.6"
  }
 },
 "nbformat": 4,
 "nbformat_minor": 2
}
