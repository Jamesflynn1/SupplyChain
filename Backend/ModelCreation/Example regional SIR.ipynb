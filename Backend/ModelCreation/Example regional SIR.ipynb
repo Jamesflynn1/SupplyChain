{
 "cells": [
  {
   "cell_type": "markdown",
   "metadata": {},
   "source": [
    "# A spatial Stochastic SEIR model using the framework\n",
    "\n",
    "## Rules:\n",
    "\n",
    "### Intralocation rules\n",
    "Exposure: S -> E\n",
    "\n",
    "Infection: E -> I\n",
    "\n",
    "Recovery: I -> R\n",
    "### Translocation rules\n",
    "Movement (Susceptible, Exposed, Recovered): S_{L1} -> S_{L2}, E_{L1} -> E_{L2}, R_{L1} -> R_{L2}\n",
    "\n",
    "Movement (Infected): I_{L1} -> I_{L2}"
   ]
  },
  {
   "cell_type": "code",
   "execution_count": 7,
   "metadata": {},
   "outputs": [],
   "source": [
    "import numpy as np\n",
    "\n",
    "import SupplyChainRules, ModelDefinition, ModelLocations\n"
   ]
  },
  {
   "cell_type": "code",
   "execution_count": 8,
   "metadata": {},
   "outputs": [],
   "source": [
    "epiClasses = [[\"S\", \"people\"], [\"E\", \"people\"], [\"I\", \"people\"], [\"R\", \"people\"]]"
   ]
  },
  {
   "cell_type": "code",
   "execution_count": 9,
   "metadata": {},
   "outputs": [],
   "source": [
    "model_constants = {\n",
    "    \"Exposure_rate\":2,\n",
    "    \"Infection_rate\":1,\n",
    "    \"Recovery_rate\":0.2,\n",
    "    \"Death_proportion\":0.01,\n",
    "    \"Standard_Transport_prop\":0.001,\n",
    "    \"Infected_Transport_prop\":0.0001\n",
    "}"
   ]
  },
  {
   "cell_type": "code",
   "execution_count": 10,
   "metadata": {},
   "outputs": [],
   "source": [
    "def epidemologyRules():\n",
    "    # Frequency vs prevalance - /N but can also use a frequency propensity (fits some dieases better than others).\n",
    "    exposure = SupplyChainRules.SingleLocationProductionRule(\"Region\", [\"S\"], [1], [\"E\"], [1], \n",
    "                                                              f\"loc_regional_inf*{model_constants['Exposure_rate']}*I*S/(S+E+I+R)*model_month_jan +{model_constants['Exposure_rate']}*I*S/(S+E+I+R)*model_month_feb\",\n",
    "                                                              [\"S\",\"E\",\"I\",\"R\"], \"Exposure\")\n",
    "    infection = SupplyChainRules.SingleLocationProductionRule(\"Region\", [\"E\"], [1], [\"I\"], [1], \n",
    "                                                              f\"{model_constants['Infection_rate']}*E\",\n",
    "                                                              [\"E\"], \"Infection\")    \n",
    "    recovery = SupplyChainRules.SingleLocationProductionRule(\"Region\", [\"I\"], [1], [\"R\"], [1],\n",
    "                                                            f\"{model_constants['Recovery_rate']}*I\",\n",
    "                                                            [\"I\"], \"Recovery\")\n",
    "    death = SupplyChainRules.ExitEntranceRule(\"Region\", \"I\", 1, \n",
    "                                              f\"{model_constants['Death_proportion']}*{model_constants['Recovery_rate']}*I\", [\"I\"], \"Death\")\n",
    "    \n",
    "    transports = []\n",
    "    for transport in [\"S\",\"E\",\"I\",\"R\"]:\n",
    "        if transport == \"I\":\n",
    "            relocation_rate = model_constants[\"Infected_Transport_prop\"]\n",
    "        else:\n",
    "            relocation_rate = model_constants[\"Standard_Transport_prop\"]\n",
    "\n",
    "        transports.append(SupplyChainRules.TransportRule(\"Region\", \"Region\", transport, [f\"{str(relocation_rate)}*{transport}\",\"1\"], \n",
    "                                                     1, [[transport], [\"S\"]], \"Movement\"))\n",
    "        \n",
    "    return [exposure, infection, recovery, death] + transports"
   ]
  },
  {
   "cell_type": "code",
   "execution_count": 11,
   "metadata": {},
   "outputs": [],
   "source": [
    "class Region (ModelLocations.Location):\n",
    "    def __init__(self, lat, long, name):\n",
    "        # Sets lat/long and creates and empty set of compartment labels.\n",
    "        super().__init__(lat, long, name, loc_type=\"Region\", constants=[\"regional_inf\"])\n",
    "        self.class_labels.add(\"S\")\n",
    "        self.class_labels.add(\"E\")\n",
    "        self.class_labels.add(\"I\")\n",
    "        self.class_labels.add(\"R\")\n",
    "\n",
    "def sirLocations():\n",
    "    all_locations = []\n",
    "    # Midpoints from wikipedia, South East and London uses South East midpoint (combined to match DEFRA reporting)\n",
    "    region_infos = [[0, 0, \"Test Region\"], [54.075, -2.75, \"North East\"], [55, -1.87, \"North West\"], [53.566667, -1.2, \"Yorkshire & The Humber\"], [52.98, -0.75, \"East Midlands\"], [52.478861, -2.256306, \"West Midlands\"], \n",
    "                    [52.24, 0.41, \"East of England\"], [51.515447, -0.09214, \"London\"], [51.3, -0.8, \"South East\"], [50.96, -3.22, \"South West\"], [56.816738, -4.183963, \"Scotland\"], \n",
    "                    [52.33022, -3.766409,\"Wales\"]]\n",
    "    # ONS mid 2022 estimates\n",
    "    region_populations = list(0.001*np.array([10000, 2683040, 7516113, 5541262, 4934939, 6021653, 6398497, 8866180, 9379833, 5764881, 5447700, 3131640]))\n",
    "    for region_index, region_info in enumerate(region_infos):\n",
    "        region = Region(*region_info)\n",
    "        # Defaults to zero otherwise\n",
    "        region.setInitialConditions({\"S\":region_populations[region_index],\"I\":100})\n",
    "        region.setConstants({\"regional_inf\":0.2})\n",
    "        all_locations.append(region)\n",
    "\n",
    "    return all_locations"
   ]
  },
  {
   "cell_type": "code",
   "execution_count": 12,
   "metadata": {},
   "outputs": [
    {
     "ename": "TypeError",
     "evalue": "Location type Region is already associated with class <class 'ModelLocations.Location'>, not class <class '__main__.Region'>",
     "output_type": "error",
     "traceback": [
      "\u001b[1;31m---------------------------------------------------------------------------\u001b[0m",
      "\u001b[1;31mTypeError\u001b[0m                                 Traceback (most recent call last)",
      "Cell \u001b[1;32mIn[12], line 2\u001b[0m\n\u001b[0;32m      1\u001b[0m model \u001b[38;5;241m=\u001b[39m ModelDefinition\u001b[38;5;241m.\u001b[39mModelDefinition(epiClasses, sirLocations, epidemologyRules, model_folder\u001b[38;5;241m=\u001b[39m\u001b[38;5;124m\"\u001b[39m\u001b[38;5;124m../ModelFiles/RegionalEpi/\u001b[39m\u001b[38;5;124m\"\u001b[39m)\n\u001b[1;32m----> 2\u001b[0m \u001b[43mmodel\u001b[49m\u001b[38;5;241;43m.\u001b[39;49m\u001b[43mbuild\u001b[49m\u001b[43m(\u001b[49m\u001b[43m)\u001b[49m\n",
      "File \u001b[1;32mc:\\Users\\james\\New folder\\SupplyChain\\Backend\\ModelCreation\\ModelDefinition.py:60\u001b[0m, in \u001b[0;36mModelDefinition.build\u001b[1;34m(self)\u001b[0m\n\u001b[0;32m     58\u001b[0m \u001b[38;5;28;01mdef\u001b[39;00m \u001b[38;5;21mbuild\u001b[39m(\u001b[38;5;28mself\u001b[39m):\n\u001b[0;32m     59\u001b[0m     \u001b[38;5;28mself\u001b[39m\u001b[38;5;241m.\u001b[39mdefineClasses()\n\u001b[1;32m---> 60\u001b[0m     \u001b[38;5;28;43mself\u001b[39;49m\u001b[38;5;241;43m.\u001b[39;49m\u001b[43mcreateLocations\u001b[49m\u001b[43m(\u001b[49m\u001b[43m)\u001b[49m\n\u001b[0;32m     61\u001b[0m     \u001b[38;5;28mself\u001b[39m\u001b[38;5;241m.\u001b[39mcreateRules()\n\u001b[0;32m     62\u001b[0m     \u001b[38;5;28mself\u001b[39m\u001b[38;5;241m.\u001b[39mmatchRules()\n",
      "File \u001b[1;32mc:\\Users\\james\\New folder\\SupplyChain\\Backend\\ModelCreation\\ModelDefinition.py:31\u001b[0m, in \u001b[0;36mModelDefinition.createLocations\u001b[1;34m(self)\u001b[0m\n\u001b[0;32m     29\u001b[0m all_locations \u001b[38;5;241m=\u001b[39m ModelLocations\u001b[38;5;241m.\u001b[39mLocations(\u001b[38;5;28mself\u001b[39m\u001b[38;5;241m.\u001b[39mdefined_classes, \u001b[38;5;28mself\u001b[39m\u001b[38;5;241m.\u001b[39mdistance_func)\n\u001b[0;32m     30\u001b[0m locations \u001b[38;5;241m=\u001b[39m \u001b[38;5;28mself\u001b[39m\u001b[38;5;241m.\u001b[39mcreate_locations_func()\n\u001b[1;32m---> 31\u001b[0m \u001b[43mall_locations\u001b[49m\u001b[38;5;241;43m.\u001b[39;49m\u001b[43maddLocations\u001b[49m\u001b[43m(\u001b[49m\u001b[43mlocations\u001b[49m\u001b[43m)\u001b[49m\n\u001b[0;32m     32\u001b[0m \u001b[38;5;66;03m# Distance computation done as part of writeJSON - set as location constants\u001b[39;00m\n\u001b[0;32m     33\u001b[0m \u001b[38;5;28mself\u001b[39m\u001b[38;5;241m.\u001b[39mlocations \u001b[38;5;241m=\u001b[39m all_locations\u001b[38;5;241m.\u001b[39mwriteJSON(\u001b[38;5;124mf\u001b[39m\u001b[38;5;124m\"\u001b[39m\u001b[38;5;132;01m{\u001b[39;00m\u001b[38;5;28mself\u001b[39m\u001b[38;5;241m.\u001b[39mmodel_folder\u001b[38;5;132;01m}\u001b[39;00m\u001b[38;5;132;01m{\u001b[39;00m\u001b[38;5;28mself\u001b[39m\u001b[38;5;241m.\u001b[39mlocation_filename\u001b[38;5;132;01m}\u001b[39;00m\u001b[38;5;124m\"\u001b[39m)\n",
      "File \u001b[1;32mc:\\Users\\james\\New folder\\SupplyChain\\Backend\\ModelCreation\\ModelLocations.py:158\u001b[0m, in \u001b[0;36mLocations.addLocations\u001b[1;34m(self, locations)\u001b[0m\n\u001b[0;32m    156\u001b[0m \u001b[38;5;28;01mdef\u001b[39;00m \u001b[38;5;21maddLocations\u001b[39m(\u001b[38;5;28mself\u001b[39m, locations):\n\u001b[0;32m    157\u001b[0m     \u001b[38;5;28;01mfor\u001b[39;00m location \u001b[38;5;129;01min\u001b[39;00m locations:\n\u001b[1;32m--> 158\u001b[0m         \u001b[38;5;28;43mself\u001b[39;49m\u001b[38;5;241;43m.\u001b[39;49m\u001b[43maddLocation\u001b[49m\u001b[43m(\u001b[49m\u001b[43mlocation\u001b[49m\u001b[43m)\u001b[49m\n",
      "File \u001b[1;32mc:\\Users\\james\\New folder\\SupplyChain\\Backend\\ModelCreation\\ModelLocations.py:148\u001b[0m, in \u001b[0;36mLocations.addLocation\u001b[1;34m(self, location)\u001b[0m\n\u001b[0;32m    146\u001b[0m         \u001b[38;5;28mself\u001b[39m\u001b[38;5;241m.\u001b[39maddCoordinates(location\u001b[38;5;241m.\u001b[39mlat, location\u001b[38;5;241m.\u001b[39mlong)\n\u001b[0;32m    147\u001b[0m     \u001b[38;5;28;01melse\u001b[39;00m:\n\u001b[1;32m--> 148\u001b[0m         \u001b[38;5;28;01mraise\u001b[39;00m(\u001b[38;5;167;01mTypeError\u001b[39;00m(\u001b[38;5;124mf\u001b[39m\u001b[38;5;124m\"\u001b[39m\u001b[38;5;124mLocation type \u001b[39m\u001b[38;5;132;01m{\u001b[39;00mlocation\u001b[38;5;241m.\u001b[39mloc_type\u001b[38;5;132;01m}\u001b[39;00m\u001b[38;5;124m is already associated with class \u001b[39m\u001b[38;5;132;01m{\u001b[39;00m\u001b[38;5;28mself\u001b[39m\u001b[38;5;241m.\u001b[39mtype_register[location\u001b[38;5;241m.\u001b[39mloc_type]\u001b[38;5;132;01m}\u001b[39;00m\u001b[38;5;124m, not class \u001b[39m\u001b[38;5;132;01m{\u001b[39;00m\u001b[38;5;28mtype\u001b[39m(location)\u001b[38;5;132;01m}\u001b[39;00m\u001b[38;5;124m\"\u001b[39m))\n\u001b[0;32m    149\u001b[0m \u001b[38;5;28;01melse\u001b[39;00m:\n\u001b[0;32m    150\u001b[0m     \u001b[38;5;28mself\u001b[39m\u001b[38;5;241m.\u001b[39mregisterTypeClass(location\u001b[38;5;241m.\u001b[39mloc_type, \u001b[38;5;28mtype\u001b[39m(location))\n",
      "\u001b[1;31mTypeError\u001b[0m: Location type Region is already associated with class <class 'ModelLocations.Location'>, not class <class '__main__.Region'>"
     ]
    }
   ],
   "source": [
    "model = ModelDefinition.ModelDefinition(epiClasses, sirLocations, epidemologyRules, model_folder=\"../ModelFiles/RegionalEpi/\")\n",
    "model.build()"
   ]
  },
  {
   "cell_type": "code",
   "execution_count": null,
   "metadata": {},
   "outputs": [],
   "source": []
  },
  {
   "cell_type": "code",
   "execution_count": null,
   "metadata": {},
   "outputs": [],
   "source": []
  }
 ],
 "metadata": {
  "kernelspec": {
   "display_name": ".venv",
   "language": "python",
   "name": "python3"
  },
  "language_info": {
   "codemirror_mode": {
    "name": "ipython",
    "version": 3
   },
   "file_extension": ".py",
   "mimetype": "text/x-python",
   "name": "python",
   "nbconvert_exporter": "python",
   "pygments_lexer": "ipython3",
   "version": "3.10.6"
  }
 },
 "nbformat": 4,
 "nbformat_minor": 2
}
